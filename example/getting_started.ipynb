{
 "cells": [
  {
   "cell_type": "markdown",
   "metadata": {},
   "source": [
    "# Español"
   ]
  },
  {
   "cell_type": "markdown",
   "metadata": {},
   "source": [
    "### MultiQueryResult"
   ]
  },
  {
   "cell_type": "markdown",
   "metadata": {},
   "source": [
    "Partiendo de un código similar a este:\n",
    "```python\n",
    "resultado = coleccion.query(query_embedding=embeddings, n_result=3)\n",
    "```\n",
    "Donde coleccion es una colección de ChromaDb y embeddings son los vectores de la busqueda a realizar. Obtendremos un QueryResult de chroma que es un dict. Tendrá una estructura como por ejemplo la siguiente:"
   ]
  },
  {
   "cell_type": "code",
   "execution_count": 1,
   "metadata": {},
   "outputs": [],
   "source": [
    "resultado = {\n",
    "        'ids': [['id_a1', 'id_a2', 'id_a3'], ['id_b1', 'id_b2', 'id_b3']],\n",
    "        'embeddings': [[[0.12, 0.45, 0.78], [0.14, 0.42, 0.75], [0.11, 0.47, 0.79]], [[0.34, 0.56, 0.89], [0.33, 0.52, 0.81], [0.35, 0.50, 0.80]]],\n",
    "        'documents': [['Documento asociado al id_a1', 'Documento asociado al id_a2', 'Documento asociado al id_a3'], ['Documento asociado al id_b1', 'Documento asociado al id_b2', 'Documento asociado al id_b3']],\n",
    "        'metadata': [[{'author': 'John Doe', 'category': 'science'}, {'author': 'Jane Roe', 'category': 'science'}, {'author': 'Alice Doe', 'category': 'math'}], [{'author': 'Jane Smith', 'category': 'history'}, {'author': 'John Roe', 'category': 'history'}, {'author': 'David Johnson', 'category': 'philosophy'}]],\n",
    "        'distances': [[0.23, 0.30, 0.35], [0.11, 0.18, 0.22]]\n",
    "}"
   ]
  },
  {
   "cell_type": "markdown",
   "metadata": {},
   "source": [
    "En este ejemplo por la cantidad de sublistas en ids, podemos ver que la cantidad de vectores usados para la busqueda fue de 2. Es decir, tenemos dos resultados distintos en la misma estructura.\n",
    "\n",
    "Para resultados multiples debemos usar MultiQueryResult."
   ]
  },
  {
   "cell_type": "code",
   "execution_count": null,
   "metadata": {},
   "outputs": [],
   "source": [
    "from query_result.multiquery_result import MultiQueryResult\n",
    "\n",
    "resultado_busqueda = MultiQueryResult(resultado)"
   ]
  },
  {
   "cell_type": "markdown",
   "metadata": {},
   "source": [
    "MultiQueryResult considera que cada busqueda es un elemento. Por tanto, su tamaño es igual a la cantidad de busquedas. En este caso 2."
   ]
  },
  {
   "cell_type": "code",
   "execution_count": 3,
   "metadata": {},
   "outputs": [
    {
     "data": {
      "text/plain": [
       "2"
      ]
     },
     "execution_count": 3,
     "metadata": {},
     "output_type": "execute_result"
    }
   ],
   "source": [
    "len(resultado_busqueda)"
   ]
  },
  {
   "cell_type": "markdown",
   "metadata": {},
   "source": [
    "Iterar sobre un multiquery hara que te muevas entre cada busqueda."
   ]
  },
  {
   "cell_type": "code",
   "execution_count": 5,
   "metadata": {},
   "outputs": [
    {
     "name": "stdout",
     "output_type": "stream",
     "text": [
      "------------------------------------------------------\n",
      "QueryResult:\n",
      "{\n",
      "  'ids': [id_a1, id_a2, id_a3],\n",
      "  'embeddings': [[0.12, 0.45, 0.78], [0.14, 0.42, 0.75], [0.11, 0.47, 0.79]],\n",
      "  'documents': [Documento asociado al id_a1, Documento asociado al id_a2, Documento asociado al id_a3],\n",
      "  'metadata': [{'author': 'John Doe', 'category': 'science'}, {'author': 'Jane Roe', 'category': 'science'}, {'author': 'Alice Doe', 'category': 'math'}],\n",
      "  'distances': [0.23, 0.3, 0.35]\n",
      "}\n",
      "------------------------------------------------------\n",
      "------------------------------------------------------\n",
      "QueryResult:\n",
      "{\n",
      "  'ids': [id_b1, id_b2, id_b3],\n",
      "  'embeddings': [[0.34, 0.56, 0.89], [0.33, 0.52, 0.81], [0.35, 0.5, 0.8]],\n",
      "  'documents': [Documento asociado al id_b1, Documento asociado al id_b2, Documento asociado al id_b3],\n",
      "  'metadata': [{'author': 'Jane Smith', 'category': 'history'}, {'author': 'John Roe', 'category': 'history'}, {'author': 'David Johnson', 'category': 'philosophy'}],\n",
      "  'distances': [0.11, 0.18, 0.22]\n",
      "}\n",
      "------------------------------------------------------\n"
     ]
    }
   ],
   "source": [
    "for busqueda in resultado_busqueda:\n",
    "    print(\"------------------------------------------------------\")\n",
    "    print(busqueda)\n",
    "    print(\"------------------------------------------------------\")"
   ]
  },
  {
   "cell_type": "markdown",
   "metadata": {},
   "source": [
    "Soporta acceso por indice (accediendo a cada busqueda por separado) o clave (accediendo a dichos valores)"
   ]
  },
  {
   "cell_type": "code",
   "execution_count": 6,
   "metadata": {},
   "outputs": [
    {
     "data": {
      "text/plain": [
       "QueryResult:\n",
       "{\n",
       "  'ids': [id_a1, id_a2, id_a3],\n",
       "  'embeddings': [[0.12, 0.45, 0.78], [0.14, 0.42, 0.75], [0.11, 0.47, 0.79]],\n",
       "  'documents': [Documento asociado al id_a1, Documento asociado al id_a2, Documento asociado al id_a3],\n",
       "  'metadata': [{'author': 'John Doe', 'category': 'science'}, {'author': 'Jane Roe', 'category': 'science'}, {'author': 'Alice Doe', 'category': 'math'}],\n",
       "  'distances': [0.23, 0.3, 0.35]\n",
       "}"
      ]
     },
     "execution_count": 6,
     "metadata": {},
     "output_type": "execute_result"
    }
   ],
   "source": [
    "# Retorna el resultado de la primer busqueda\n",
    "resultado_busqueda[0]"
   ]
  },
  {
   "cell_type": "code",
   "execution_count": 7,
   "metadata": {},
   "outputs": [
    {
     "data": {
      "text/plain": [
       "[['id_a1', 'id_a2', 'id_a3'], ['id_b1', 'id_b2', 'id_b3']]"
      ]
     },
     "execution_count": 7,
     "metadata": {},
     "output_type": "execute_result"
    }
   ],
   "source": [
    "# Retorna todos los ids.\n",
    "resultado_busqueda['ids']"
   ]
  },
  {
   "cell_type": "markdown",
   "metadata": {},
   "source": [
    "Se pueden combinar. Por ejemplo, si se quiere acceder a los ids de la primer busqueda."
   ]
  },
  {
   "cell_type": "code",
   "execution_count": 8,
   "metadata": {},
   "outputs": [
    {
     "data": {
      "text/plain": [
       "['id_a1', 'id_a2', 'id_a3']"
      ]
     },
     "execution_count": 8,
     "metadata": {},
     "output_type": "execute_result"
    }
   ],
   "source": [
    "resultado_busqueda[0]['ids']"
   ]
  },
  {
   "cell_type": "markdown",
   "metadata": {},
   "source": [
    "### QueryResult"
   ]
  },
  {
   "cell_type": "markdown",
   "metadata": {},
   "source": [
    "Partiendo de un código similar a este:\n",
    "```python\n",
    "resultado = coleccion.query(query_embedding=embedding, n_result=3)\n",
    "```\n",
    "Donde coleccion es una colección de ChromaDb y embedding es un solo vectore de busqueda a realizar. Obtendremos un QueryResult de chroma que es un dict. Tendrá una estructura como por ejemplo la siguiente:"
   ]
  },
  {
   "cell_type": "code",
   "execution_count": 11,
   "metadata": {},
   "outputs": [],
   "source": [
    "resultado_unico = {\n",
    "        'ids': ['id_a1', 'id_a2', 'id_a3'],\n",
    "        'embeddings': [[0.12, 0.45, 0.78], [0.14, 0.42, 0.75], [0.11, 0.47, 0.79]],\n",
    "        'documents': ['Documento asociado al id_a1', 'Documento asociado al id_a2', 'Documento asociado al id_a3'],\n",
    "        'metadata': [{'author': 'John Doe', 'category': 'science'}, {'author': 'Jane Roe', 'category': 'science'}, {'author': 'Alice Doe', 'category': 'math'}],\n",
    "        'distances': [0.23, 0.30, 0.35]\n",
    "}"
   ]
  },
  {
   "cell_type": "markdown",
   "metadata": {},
   "source": [
    "Cuando solo se busca un vector se debe usar QueryResult."
   ]
  },
  {
   "cell_type": "code",
   "execution_count": 14,
   "metadata": {},
   "outputs": [],
   "source": [
    "from query_result.query_result import QueryResult\n",
    "\n",
    "resultado_busqueda = QueryResult(resultado)"
   ]
  },
  {
   "cell_type": "code",
   "execution_count": 17,
   "metadata": {},
   "outputs": [
    {
     "data": {
      "text/plain": [
       "QueryResult:\n",
       "{\n",
       "  'ids': [id_a1, id_a2, id_a3],\n",
       "  'embeddings': [[0.12, 0.45, 0.78], [0.14, 0.42, 0.75], [0.11, 0.47, 0.79]],\n",
       "  'documents': [Documento asociado al id_a1, Documento asociado al id_a2, Documento asociado al id_a3],\n",
       "  'metadata': [{'author': 'John Doe', 'category': 'science'}, {'author': 'Jane Roe', 'category': 'science'}, {'author': 'Alice Doe', 'category': 'math'}],\n",
       "  'distances': [0.23, 0.3, 0.35]\n",
       "}"
      ]
     },
     "execution_count": 17,
     "metadata": {},
     "output_type": "execute_result"
    }
   ],
   "source": [
    "resultado_busqueda"
   ]
  },
  {
   "cell_type": "markdown",
   "metadata": {},
   "source": [
    "En el caso de un QueryResult su tamaño es sobre los resultados totales (coincidiendo con el n_results). A su vez acceder númericamente te dará el resultado en dicha posición. Siendo 0 el resultado de menor distancia obtenido. Tambien, se puede acceder por clave obteniendo los valores de dicha clave para todos los resultados."
   ]
  },
  {
   "cell_type": "code",
   "execution_count": 18,
   "metadata": {},
   "outputs": [
    {
     "name": "stdout",
     "output_type": "stream",
     "text": [
      "Tamaño:\n",
      "3\n",
      "El resultado mas cercano:\n",
      "{'ids': 'id_a1', 'embeddings': [0.12, 0.45, 0.78], 'documents': 'Documento asociado al id_a1', 'metadata': {'author': 'John Doe', 'category': 'science'}, 'distances': 0.23}\n",
      "Los ids de todos los resultados obtenidos:\n",
      "['id_a1', 'id_a2', 'id_a3']\n"
     ]
    }
   ],
   "source": [
    "print(\"Tamaño:\")\n",
    "print(len(resultado_busqueda))\n",
    "print(\"El resultado mas cercano:\")\n",
    "print(resultado_busqueda[0])\n",
    "print(\"Los ids de todos los resultados obtenidos:\")\n",
    "print(resultado_busqueda['ids'])"
   ]
  },
  {
   "cell_type": "markdown",
   "metadata": {},
   "source": [
    "### MultiqueryResult y QueryResult"
   ]
  },
  {
   "cell_type": "markdown",
   "metadata": {},
   "source": [
    "MultiQueryResult se conceptualiza como un conjunto de QueryResults (tanto como vectores se pasaron para hacer busquedas). De modo que usando el indice númerico o un for se puede ir obteniendo los QueryResults de cada cada resultado y utilizarlos como se vio en la anterior sección."
   ]
  },
  {
   "cell_type": "markdown",
   "metadata": {},
   "source": [
    "# Ingles"
   ]
  },
  {
   "cell_type": "markdown",
   "metadata": {},
   "source": [
    "TODO"
   ]
  }
 ],
 "metadata": {
  "kernelspec": {
   "display_name": "Python 3",
   "language": "python",
   "name": "python3"
  },
  "language_info": {
   "codemirror_mode": {
    "name": "ipython",
    "version": 3
   },
   "file_extension": ".py",
   "mimetype": "text/x-python",
   "name": "python",
   "nbconvert_exporter": "python",
   "pygments_lexer": "ipython3",
   "version": "3.11.7"
  }
 },
 "nbformat": 4,
 "nbformat_minor": 2
}
